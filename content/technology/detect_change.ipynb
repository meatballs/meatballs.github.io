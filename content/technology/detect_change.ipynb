{
 "cells": [
  {
   "cell_type": "markdown",
   "metadata": {},
   "source": [
    "Setup dataframes to mimic incoming spreadsheet data"
   ]
  },
  {
   "cell_type": "code",
   "execution_count": null,
   "metadata": {},
   "outputs": [],
   "source": [
    "from datetime import datetime\n",
    "from IPython.display import Markdown\n",
    "import pandas as pd\n",
    "\n",
    "months = ['May 2018', 'June2018', 'July 2018']\n",
    "companies = ['Thales', 'VT', 'Raytheon']\n",
    "\n",
    "universe = {\n",
    "    month: pd.DataFrame({'company': companies, 'status': ['active' for i in range(len(companies))]})\n",
    "    for month in months\n",
    "}\n",
    "\n",
    "for month in months[1:]:\n",
    "    universe[month]['status'][1] = 'inactive'\n",
    "    \n",
    "universe[months[2]]['status'][2] = 'inactive'\n",
    "\n",
    "def display_universe(universe):\n",
    "    for month, df in universe.items():\n",
    "        display(Markdown(f'** {month} **'))\n",
    "        display(df)\n",
    "\n",
    "display_universe(universe)"
   ]
  },
  {
   "cell_type": "markdown",
   "metadata": {},
   "source": [
    "Define a function to convert text to a datetime object using a list of possible string formats"
   ]
  },
  {
   "cell_type": "code",
   "execution_count": null,
   "metadata": {},
   "outputs": [],
   "source": [
    "def text_to_month(text, formats):    \n",
    "    for format in formats:\n",
    "        try:\n",
    "            month = datetime.strptime(text, format)\n",
    "        except ValueError:\n",
    "            month = None\n",
    "        if month is not None:\n",
    "            break\n",
    "    return month"
   ]
  },
  {
   "cell_type": "markdown",
   "metadata": {},
   "source": [
    "List the date formats in use in the spreadsheet and then convert the month names to proper datetime values"
   ]
  },
  {
   "cell_type": "code",
   "execution_count": null,
   "metadata": {},
   "outputs": [],
   "source": [
    "formats = [\"%B %Y\", \"%B%Y\"]\n",
    "\n",
    "universe = {\n",
    "    text_to_month(key, formats): value\n",
    "    for key, value in universe.items()\n",
    "}\n",
    "\n",
    "display_universe(universe)"
   ]
  },
  {
   "cell_type": "markdown",
   "metadata": {},
   "source": [
    "Use the company name as the row index instead of row number"
   ]
  },
  {
   "cell_type": "code",
   "execution_count": null,
   "metadata": {},
   "outputs": [],
   "source": [
    "for month, df in universe.items():\n",
    "    df.set_index('company', inplace=True)\n",
    "    \n",
    "display_universe(universe)"
   ]
  },
  {
   "cell_type": "markdown",
   "metadata": {},
   "source": [
    "Concatenate the dataframes into one with the month as an additional index"
   ]
  },
  {
   "cell_type": "code",
   "execution_count": null,
   "metadata": {},
   "outputs": [],
   "source": [
    "df = pd.concat(universe)\n",
    "display(df)"
   ]
  },
  {
   "cell_type": "markdown",
   "metadata": {},
   "source": [
    "Swap the order of the month and company indexes and then sort by that order"
   ]
  },
  {
   "cell_type": "code",
   "execution_count": null,
   "metadata": {},
   "outputs": [],
   "source": [
    "df = df.swaplevel(0, 1, axis=0).sort_index()\n",
    "display(df)"
   ]
  },
  {
   "cell_type": "markdown",
   "metadata": {},
   "source": [
    "Show only the rows where the status has changed for that company"
   ]
  },
  {
   "cell_type": "code",
   "execution_count": null,
   "metadata": {},
   "outputs": [],
   "source": [
    "display(df[df.groupby(['company']).status.shift().ne(df.status)])"
   ]
  }
 ],
 "metadata": {
  "kernelspec": {
   "display_name": "Python [default]",
   "language": "python",
   "name": "python3"
  },
  "language_info": {
   "codemirror_mode": {
    "name": "ipython",
    "version": 3
   },
   "file_extension": ".py",
   "mimetype": "text/x-python",
   "name": "python",
   "nbconvert_exporter": "python",
   "pygments_lexer": "ipython3",
   "version": "3.6.5"
  }
 },
 "nbformat": 4,
 "nbformat_minor": 2
}
